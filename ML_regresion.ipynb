{
 "cells": [
  {
   "cell_type": "markdown",
   "metadata": {},
   "source": [
    "# CONTENIDO\n",
    "\n",
    "* [Introducción](#intro)\n",
    "    * [Objetivo](#obj)\n",
    "* [Descripción de datos](#desc)\n",
    "* [Modelado con regresión lineal](#mrl)\n",
    "    * [Modelado Región 1](#mr1)\n",
    "    * [Modelado Región 2](#mr2)\n",
    "    * [Modelado Región 3](#mr3)\n",
    "    * [Conclusión](#c1)\n",
    "* [Calculo de ganacias](#ganan)\n",
    "    * [Conclusión](#c2)\n",
    "* [Riesgos y ganacias por cada región](#rgr)\n",
    "    * [Conclusión](#c3)\n",
    "* [Conclusión final](#c_final)"
   ]
  },
  {
   "cell_type": "markdown",
   "metadata": {},
   "source": [
    "## Introducción <a  id = 'intro'></a>"
   ]
  },
  {
   "cell_type": "markdown",
   "metadata": {},
   "source": [
    "OilyGiant copañia minera está en búsqueda de el mejor lugar para la realización de un nuevo pozo. \n",
    "Tienes datos sobre muestras de crudo de tres regiones. Y se conocen los parámetros\n",
    "de cada pozo petrolero de la región. "
   ]
  },
  {
   "cell_type": "markdown",
   "metadata": {},
   "source": [
    "### Objetivo <a id = 'obj'></a>"
   ]
  },
  {
   "cell_type": "markdown",
   "metadata": {},
   "source": [
    "Crear un modelo que ayude a elegir la región con el\n",
    "mayor margen de beneficio. Analiza los beneficios y riesgos potenciales utilizando la\n",
    "técnica bootstrapping."
   ]
  },
  {
   "cell_type": "markdown",
   "metadata": {},
   "source": [
    "## Descripción de datos<a id = 'desc'></a>"
   ]
  },
  {
   "cell_type": "code",
   "execution_count": 1,
   "metadata": {},
   "outputs": [],
   "source": [
    "#Librerias necesarias\n",
    "import pandas as pd\n",
    "import numpy as np\n",
    "import matplotlib.pyplot as plt\n",
    "\n",
    "from sklearn.model_selection import train_test_split\n",
    "from sklearn.linear_model import LinearRegression\n",
    "from sklearn.metrics import mean_squared_error"
   ]
  },
  {
   "cell_type": "code",
   "execution_count": 2,
   "metadata": {},
   "outputs": [],
   "source": [
    "#Carga de datasets\n",
    "region_one = pd.read_csv('/datasets/geo_data_0.csv')\n",
    "region_two = pd.read_csv('/datasets/geo_data_1.csv')\n",
    "region_three = pd.read_csv('/datasets/geo_data_2.csv')"
   ]
  },
  {
   "cell_type": "code",
   "execution_count": 3,
   "metadata": {},
   "outputs": [
    {
     "name": "stdout",
     "output_type": "stream",
     "text": [
      "<class 'pandas.core.frame.DataFrame'>\n",
      "RangeIndex: 100000 entries, 0 to 99999\n",
      "Data columns (total 5 columns):\n",
      " #   Column   Non-Null Count   Dtype  \n",
      "---  ------   --------------   -----  \n",
      " 0   id       100000 non-null  object \n",
      " 1   f0       100000 non-null  float64\n",
      " 2   f1       100000 non-null  float64\n",
      " 3   f2       100000 non-null  float64\n",
      " 4   product  100000 non-null  float64\n",
      "dtypes: float64(4), object(1)\n",
      "memory usage: 3.8+ MB\n"
     ]
    },
    {
     "data": {
      "text/html": [
       "<div>\n",
       "<style scoped>\n",
       "    .dataframe tbody tr th:only-of-type {\n",
       "        vertical-align: middle;\n",
       "    }\n",
       "\n",
       "    .dataframe tbody tr th {\n",
       "        vertical-align: top;\n",
       "    }\n",
       "\n",
       "    .dataframe thead th {\n",
       "        text-align: right;\n",
       "    }\n",
       "</style>\n",
       "<table border=\"1\" class=\"dataframe\">\n",
       "  <thead>\n",
       "    <tr style=\"text-align: right;\">\n",
       "      <th></th>\n",
       "      <th>id</th>\n",
       "      <th>f0</th>\n",
       "      <th>f1</th>\n",
       "      <th>f2</th>\n",
       "      <th>product</th>\n",
       "    </tr>\n",
       "  </thead>\n",
       "  <tbody>\n",
       "    <tr>\n",
       "      <th>0</th>\n",
       "      <td>txEyH</td>\n",
       "      <td>0.705745</td>\n",
       "      <td>-0.497823</td>\n",
       "      <td>1.221170</td>\n",
       "      <td>105.280062</td>\n",
       "    </tr>\n",
       "    <tr>\n",
       "      <th>1</th>\n",
       "      <td>2acmU</td>\n",
       "      <td>1.334711</td>\n",
       "      <td>-0.340164</td>\n",
       "      <td>4.365080</td>\n",
       "      <td>73.037750</td>\n",
       "    </tr>\n",
       "    <tr>\n",
       "      <th>2</th>\n",
       "      <td>409Wp</td>\n",
       "      <td>1.022732</td>\n",
       "      <td>0.151990</td>\n",
       "      <td>1.419926</td>\n",
       "      <td>85.265647</td>\n",
       "    </tr>\n",
       "    <tr>\n",
       "      <th>3</th>\n",
       "      <td>iJLyR</td>\n",
       "      <td>-0.032172</td>\n",
       "      <td>0.139033</td>\n",
       "      <td>2.978566</td>\n",
       "      <td>168.620776</td>\n",
       "    </tr>\n",
       "    <tr>\n",
       "      <th>4</th>\n",
       "      <td>Xdl7t</td>\n",
       "      <td>1.988431</td>\n",
       "      <td>0.155413</td>\n",
       "      <td>4.751769</td>\n",
       "      <td>154.036647</td>\n",
       "    </tr>\n",
       "  </tbody>\n",
       "</table>\n",
       "</div>"
      ],
      "text/plain": [
       "      id        f0        f1        f2     product\n",
       "0  txEyH  0.705745 -0.497823  1.221170  105.280062\n",
       "1  2acmU  1.334711 -0.340164  4.365080   73.037750\n",
       "2  409Wp  1.022732  0.151990  1.419926   85.265647\n",
       "3  iJLyR -0.032172  0.139033  2.978566  168.620776\n",
       "4  Xdl7t  1.988431  0.155413  4.751769  154.036647"
      ]
     },
     "execution_count": 3,
     "metadata": {},
     "output_type": "execute_result"
    }
   ],
   "source": [
    "#Información de región 1\n",
    "region_one.info()\n",
    "\n",
    "#Visualización de datos\n",
    "region_one.head()"
   ]
  },
  {
   "cell_type": "code",
   "execution_count": 4,
   "metadata": {},
   "outputs": [
    {
     "name": "stdout",
     "output_type": "stream",
     "text": [
      "<class 'pandas.core.frame.DataFrame'>\n",
      "RangeIndex: 100000 entries, 0 to 99999\n",
      "Data columns (total 5 columns):\n",
      " #   Column   Non-Null Count   Dtype  \n",
      "---  ------   --------------   -----  \n",
      " 0   id       100000 non-null  object \n",
      " 1   f0       100000 non-null  float64\n",
      " 2   f1       100000 non-null  float64\n",
      " 3   f2       100000 non-null  float64\n",
      " 4   product  100000 non-null  float64\n",
      "dtypes: float64(4), object(1)\n",
      "memory usage: 3.8+ MB\n"
     ]
    },
    {
     "data": {
      "text/html": [
       "<div>\n",
       "<style scoped>\n",
       "    .dataframe tbody tr th:only-of-type {\n",
       "        vertical-align: middle;\n",
       "    }\n",
       "\n",
       "    .dataframe tbody tr th {\n",
       "        vertical-align: top;\n",
       "    }\n",
       "\n",
       "    .dataframe thead th {\n",
       "        text-align: right;\n",
       "    }\n",
       "</style>\n",
       "<table border=\"1\" class=\"dataframe\">\n",
       "  <thead>\n",
       "    <tr style=\"text-align: right;\">\n",
       "      <th></th>\n",
       "      <th>id</th>\n",
       "      <th>f0</th>\n",
       "      <th>f1</th>\n",
       "      <th>f2</th>\n",
       "      <th>product</th>\n",
       "    </tr>\n",
       "  </thead>\n",
       "  <tbody>\n",
       "    <tr>\n",
       "      <th>0</th>\n",
       "      <td>kBEdx</td>\n",
       "      <td>-15.001348</td>\n",
       "      <td>-8.276000</td>\n",
       "      <td>-0.005876</td>\n",
       "      <td>3.179103</td>\n",
       "    </tr>\n",
       "    <tr>\n",
       "      <th>1</th>\n",
       "      <td>62mP7</td>\n",
       "      <td>14.272088</td>\n",
       "      <td>-3.475083</td>\n",
       "      <td>0.999183</td>\n",
       "      <td>26.953261</td>\n",
       "    </tr>\n",
       "    <tr>\n",
       "      <th>2</th>\n",
       "      <td>vyE1P</td>\n",
       "      <td>6.263187</td>\n",
       "      <td>-5.948386</td>\n",
       "      <td>5.001160</td>\n",
       "      <td>134.766305</td>\n",
       "    </tr>\n",
       "    <tr>\n",
       "      <th>3</th>\n",
       "      <td>KcrkZ</td>\n",
       "      <td>-13.081196</td>\n",
       "      <td>-11.506057</td>\n",
       "      <td>4.999415</td>\n",
       "      <td>137.945408</td>\n",
       "    </tr>\n",
       "    <tr>\n",
       "      <th>4</th>\n",
       "      <td>AHL4O</td>\n",
       "      <td>12.702195</td>\n",
       "      <td>-8.147433</td>\n",
       "      <td>5.004363</td>\n",
       "      <td>134.766305</td>\n",
       "    </tr>\n",
       "  </tbody>\n",
       "</table>\n",
       "</div>"
      ],
      "text/plain": [
       "      id         f0         f1        f2     product\n",
       "0  kBEdx -15.001348  -8.276000 -0.005876    3.179103\n",
       "1  62mP7  14.272088  -3.475083  0.999183   26.953261\n",
       "2  vyE1P   6.263187  -5.948386  5.001160  134.766305\n",
       "3  KcrkZ -13.081196 -11.506057  4.999415  137.945408\n",
       "4  AHL4O  12.702195  -8.147433  5.004363  134.766305"
      ]
     },
     "execution_count": 4,
     "metadata": {},
     "output_type": "execute_result"
    }
   ],
   "source": [
    "#Información de región 2\n",
    "region_two.info()\n",
    "\n",
    "#Visualización de datos\n",
    "region_two.head()"
   ]
  },
  {
   "cell_type": "code",
   "execution_count": 5,
   "metadata": {},
   "outputs": [
    {
     "name": "stdout",
     "output_type": "stream",
     "text": [
      "<class 'pandas.core.frame.DataFrame'>\n",
      "RangeIndex: 100000 entries, 0 to 99999\n",
      "Data columns (total 5 columns):\n",
      " #   Column   Non-Null Count   Dtype  \n",
      "---  ------   --------------   -----  \n",
      " 0   id       100000 non-null  object \n",
      " 1   f0       100000 non-null  float64\n",
      " 2   f1       100000 non-null  float64\n",
      " 3   f2       100000 non-null  float64\n",
      " 4   product  100000 non-null  float64\n",
      "dtypes: float64(4), object(1)\n",
      "memory usage: 3.8+ MB\n"
     ]
    },
    {
     "data": {
      "text/html": [
       "<div>\n",
       "<style scoped>\n",
       "    .dataframe tbody tr th:only-of-type {\n",
       "        vertical-align: middle;\n",
       "    }\n",
       "\n",
       "    .dataframe tbody tr th {\n",
       "        vertical-align: top;\n",
       "    }\n",
       "\n",
       "    .dataframe thead th {\n",
       "        text-align: right;\n",
       "    }\n",
       "</style>\n",
       "<table border=\"1\" class=\"dataframe\">\n",
       "  <thead>\n",
       "    <tr style=\"text-align: right;\">\n",
       "      <th></th>\n",
       "      <th>id</th>\n",
       "      <th>f0</th>\n",
       "      <th>f1</th>\n",
       "      <th>f2</th>\n",
       "      <th>product</th>\n",
       "    </tr>\n",
       "  </thead>\n",
       "  <tbody>\n",
       "    <tr>\n",
       "      <th>0</th>\n",
       "      <td>fwXo0</td>\n",
       "      <td>-1.146987</td>\n",
       "      <td>0.963328</td>\n",
       "      <td>-0.828965</td>\n",
       "      <td>27.758673</td>\n",
       "    </tr>\n",
       "    <tr>\n",
       "      <th>1</th>\n",
       "      <td>WJtFt</td>\n",
       "      <td>0.262778</td>\n",
       "      <td>0.269839</td>\n",
       "      <td>-2.530187</td>\n",
       "      <td>56.069697</td>\n",
       "    </tr>\n",
       "    <tr>\n",
       "      <th>2</th>\n",
       "      <td>ovLUW</td>\n",
       "      <td>0.194587</td>\n",
       "      <td>0.289035</td>\n",
       "      <td>-5.586433</td>\n",
       "      <td>62.871910</td>\n",
       "    </tr>\n",
       "    <tr>\n",
       "      <th>3</th>\n",
       "      <td>q6cA6</td>\n",
       "      <td>2.236060</td>\n",
       "      <td>-0.553760</td>\n",
       "      <td>0.930038</td>\n",
       "      <td>114.572842</td>\n",
       "    </tr>\n",
       "    <tr>\n",
       "      <th>4</th>\n",
       "      <td>WPMUX</td>\n",
       "      <td>-0.515993</td>\n",
       "      <td>1.716266</td>\n",
       "      <td>5.899011</td>\n",
       "      <td>149.600746</td>\n",
       "    </tr>\n",
       "  </tbody>\n",
       "</table>\n",
       "</div>"
      ],
      "text/plain": [
       "      id        f0        f1        f2     product\n",
       "0  fwXo0 -1.146987  0.963328 -0.828965   27.758673\n",
       "1  WJtFt  0.262778  0.269839 -2.530187   56.069697\n",
       "2  ovLUW  0.194587  0.289035 -5.586433   62.871910\n",
       "3  q6cA6  2.236060 -0.553760  0.930038  114.572842\n",
       "4  WPMUX -0.515993  1.716266  5.899011  149.600746"
      ]
     },
     "execution_count": 5,
     "metadata": {},
     "output_type": "execute_result"
    }
   ],
   "source": [
    "#Información de región 3\n",
    "region_three.info()\n",
    "\n",
    "#Visualización de datos\n",
    "region_three.head()"
   ]
  },
  {
   "cell_type": "markdown",
   "metadata": {},
   "source": [
    "Observamos que en nuestras tres regiones tenemos un total de 100,000 datos y un total de 5 columnas, en ninguno existe valores nulos y los tipos de datos están correctos. El significado de nuestras columnas son las siguientes:\n",
    "\n",
    "* `id`: identificador único de pozo de petróleo\n",
    "* `f0`, `f1`, `f2`: tres características de los puntos\n",
    "* `product`: volumen de reservas en el pozo de petróleo (miles de barriles).\n",
    "\n",
    "Para nuestro modelado al no ser de utilidad la columna id se eliminará de las caracteristicas de entrenamiento"
   ]
  },
  {
   "cell_type": "markdown",
   "metadata": {},
   "source": [
    "## Modelado con regresión lineal<a id = 'mrl'></a>"
   ]
  },
  {
   "cell_type": "markdown",
   "metadata": {},
   "source": [
    "A continuación se realizará el modelado de las tres distintas regiones con las que contamos, se dividiran los datos a una proporción de 75:25, Elaboraremos una función para ralizar estos trabajos"
   ]
  },
  {
   "cell_type": "code",
   "execution_count": 6,
   "metadata": {},
   "outputs": [],
   "source": [
    "#Función de para modelado con regresión lineal\n",
    "\n",
    "def linear_regression(features,\n",
    "                     target,\n",
    "                     f_train,\n",
    "                     f_valid, \n",
    "                     t_train, \n",
    "                     t_valid ):\n",
    "    \n",
    "    model = LinearRegression()\n",
    "    model.fit(f_train,t_train)\n",
    "    predictions_valid = model.predict(f_valid)\n",
    "    \n",
    "    ecm = mean_squared_error(t_valid,predictions_valid)\n",
    "    recm = ecm **.5\n",
    "    \n",
    "    return predictions_valid ,recm\n",
    "    "
   ]
  },
  {
   "cell_type": "markdown",
   "metadata": {},
   "source": [
    "### Modelado región 1 <a id = \"mr1\"></a>"
   ]
  },
  {
   "cell_type": "code",
   "execution_count": 7,
   "metadata": {},
   "outputs": [
    {
     "name": "stdout",
     "output_type": "stream",
     "text": [
      "Volumen promedio de reservas de la región 1: 92.59256778438035\n",
      "RECM región 1: 37.5794217150813\n"
     ]
    }
   ],
   "source": [
    "#División de datos en entrenamiento y validación\n",
    "\n",
    "features_region_one = region_one.drop(['id', 'product'], axis = 1) \n",
    "target_region_one = region_one['product'] \n",
    "\n",
    "features_train, features_valid, target_train, target_valid_rOne = train_test_split( features_region_one,\n",
    "                                                                              target_region_one,\n",
    "                                                                              test_size = 0.25,\n",
    "                                                                              random_state = 12345\n",
    "                                                            )\n",
    "\n",
    "prediction_region_one, recm_region_one = linear_regression(features_region_one, \n",
    "                                                          target_region_one,\n",
    "                                                          features_train, \n",
    "                                                          features_valid, \n",
    "                                                          target_train, \n",
    "                                                          target_valid_rOne\n",
    "                                                         )\n",
    "\n",
    "print(\"Volumen promedio de reservas de la región 1:\",prediction_region_one.mean())\n",
    "print(\"RECM región 1:\",recm_region_one)"
   ]
  },
  {
   "cell_type": "markdown",
   "metadata": {},
   "source": [
    "### Modelado región 2 <a id = \"mr2\"></a>"
   ]
  },
  {
   "cell_type": "code",
   "execution_count": 8,
   "metadata": {},
   "outputs": [
    {
     "name": "stdout",
     "output_type": "stream",
     "text": [
      "Volumen promedio de reservas de la región 2: 68.728546895446\n",
      "RECM región 2: 0.893099286775617\n"
     ]
    }
   ],
   "source": [
    "#División de datos en entrenamiento y validación\n",
    "\n",
    "features_region_two = region_two.drop(['id', 'product'], axis = 1) \n",
    "target_region_two = region_two['product'] \n",
    "\n",
    "features_train, features_valid, target_train, target_valid_two = train_test_split( features_region_two,\n",
    "                                                                              target_region_two,\n",
    "                                                                              test_size = 0.25,\n",
    "                                                                              random_state = 12345\n",
    "                                                            )\n",
    "\n",
    "prediction_region_two,recm_region_two = linear_regression(features_region_two,\n",
    "                                                          target_region_two,\n",
    "                                                          features_train, \n",
    "                                                          features_valid, \n",
    "                                                          target_train, \n",
    "                                                          target_valid_two\n",
    "                                                         )\n",
    "\n",
    "print(\"Volumen promedio de reservas de la región 2:\",prediction_region_two.mean())\n",
    "print(\"RECM región 2:\",recm_region_two)"
   ]
  },
  {
   "cell_type": "markdown",
   "metadata": {},
   "source": [
    "### Modelado región 3 <a id = \"mr3\"></a>"
   ]
  },
  {
   "cell_type": "code",
   "execution_count": 9,
   "metadata": {},
   "outputs": [
    {
     "name": "stdout",
     "output_type": "stream",
     "text": [
      "Volumen promedio de reservas de la región 3: 94.96504596800489\n",
      "RECM región 3: 40.02970873393434\n"
     ]
    }
   ],
   "source": [
    "#División de datos en entrenamiento y validación\n",
    "\n",
    "features_region_three = region_three.drop(['id', 'product'], axis = 1) \n",
    "target_region_three = region_three['product'] \n",
    "\n",
    "features_train, features_valid, target_train, target_valid_three = train_test_split(features_region_three,\n",
    "                                                                              target_region_three,\n",
    "                                                                              test_size = 0.25,\n",
    "                                                                              random_state = 12345\n",
    "                                                            )\n",
    "\n",
    "prediction_region_three,recm_region_three = linear_regression(features_region_three,\n",
    "                                                              target_region_three,\n",
    "                                                              features_train, \n",
    "                                                              features_valid, \n",
    "                                                              target_train, \n",
    "                                                              target_valid_three)\n",
    "\n",
    "print(\"Volumen promedio de reservas de la región 3:\",prediction_region_three.mean())\n",
    "print(\"RECM región 3:\",recm_region_three)"
   ]
  },
  {
   "cell_type": "markdown",
   "metadata": {},
   "source": [
    "### Conclusión <a id = 'c1'></a>"
   ]
  },
  {
   "cell_type": "markdown",
   "metadata": {},
   "source": [
    "Nuestros resultados obtenidos para nuestra RECM fueron:\n",
    "* Region 1: 37.57\n",
    "* Región 2: 0.89\n",
    "* Región 3: 40.02\n",
    "\n",
    "Podemos observar que en la región dos es donde tenemos nuestro mejor comportamiento con el modelado con un error chico respecto a las otras dos regiones\n",
    "En cuanto al promedio de acuerdo a nuestras predicciones la región tres es la mejor"
   ]
  },
  {
   "cell_type": "markdown",
   "metadata": {},
   "source": [
    "## Calculo de ganacias<a id = \"ganan\"></a>"
   ]
  },
  {
   "cell_type": "markdown",
   "metadata": {},
   "source": [
    "Para el calculo de ganancias la empresa ha aportado las siguiente pautas:\n",
    "\n",
    "* Se seleccionaran los mejores 200 pozos\n",
    "* El costo por barril es de \\\\$4.5 USD\n",
    "* Se cuenta con una inversión de \\\\$100,000,000 para la realización de los 200 pozos\n",
    "\n",
    "Se calculará el mínimo de volumen de petrolio por región para estimar el mínimo de volumen requerido para evitar perdidas. Asi como las ganancias obtenidas por los mejores 200 pozos predichos."
   ]
  },
  {
   "cell_type": "code",
   "execution_count": 10,
   "metadata": {},
   "outputs": [
    {
     "name": "stdout",
     "output_type": "stream",
     "text": [
      "Presupuesto para la construcción de cada pozo: 500000.0\n",
      "Volumen necesario para no tener perdidas: 111.11111111111111\n"
     ]
    }
   ],
   "source": [
    "budget = 100000000 # presupuesto para la contrucción de 200 pozos\n",
    "income = 4500 #Precio por unidad en miles de barriles\n",
    "\n",
    "#Presupuesto para un pozo\n",
    "budget_per_pit = budget / 200\n",
    "\n",
    "#volumen necesario de barriles para no tener perdidas\n",
    "volume_necesary = budget_per_pit / income\n",
    "\n",
    "print(\"Presupuesto para la construcción de cada pozo:\", budget_per_pit)\n",
    "print(\"Volumen necesario para no tener perdidas:\", volume_necesary )"
   ]
  },
  {
   "cell_type": "code",
   "execution_count": 11,
   "metadata": {},
   "outputs": [
    {
     "name": "stdout",
     "output_type": "stream",
     "text": [
      "Volumen promedio región 1: 92.50000000000001\n",
      "Volumen promedio región 2: 68.82500000000002\n",
      "Volumen promedio región 3: 95.00000000000004\n"
     ]
    }
   ],
   "source": [
    "#Volumen promedio por región\n",
    "\n",
    "print(\"Volumen promedio región 1:\", region_one['product'].mean())\n",
    "print(\"Volumen promedio región 2:\", region_two['product'].mean())\n",
    "print(\"Volumen promedio región 3:\", region_three['product'].mean())"
   ]
  },
  {
   "cell_type": "markdown",
   "metadata": {},
   "source": [
    "Se tiene un presupuesto por poso de $50,000 y para no tener perdidas se requiere de al menos un volumen de 112 mil barriles, Observamos que en promedio de producción ninguna los supera siendo la peor la región 2, se creará una función para determinar las ganancias(producción de cada pozo menos gastos de elaboración) producidas por los 200 mejores pozos de cada región"
   ]
  },
  {
   "cell_type": "code",
   "execution_count": 12,
   "metadata": {},
   "outputs": [],
   "source": [
    "#Función de calculo de ganancia por region\n",
    "\n",
    "def region_income(prediction_volume):\n",
    "    total_volume = np.sort(prediction_volume)[::-1][:200].sum() #Ordenar de mayor a menor y obtener nuetros mejores 200 pozos\n",
    "    income_region = (total_volume * income) - budget  \n",
    "    return income_region"
   ]
  },
  {
   "cell_type": "code",
   "execution_count": 13,
   "metadata": {},
   "outputs": [
    {
     "name": "stdout",
     "output_type": "stream",
     "text": [
      "Ganancia total por los 200 pozos región 1: $39,960,488.77\n",
      "Ganancia total por los 200 pozos región 2: $24,857,120.52\n",
      "Ganancia total por los 200 pozos región 3: $33,217,543.96\n"
     ]
    }
   ],
   "source": [
    "income_region_one = region_income(prediction_region_one)\n",
    "income_region_two = region_income(prediction_region_two)\n",
    "income_region_three = region_income(prediction_region_three)\n",
    "\n",
    "\n",
    "#print(\"Volumen total de los 200 pozos:\", total_volume_region_one )\n",
    "print(\"Ganancia total por los 200 pozos región 1: ${:,.2f}\".format(income_region_one))\n",
    "print(\"Ganancia total por los 200 pozos región 2: ${:,.2f}\".format(income_region_two))\n",
    "print(\"Ganancia total por los 200 pozos región 3: ${:,.2f}\".format(income_region_three))"
   ]
  },
  {
   "cell_type": "markdown",
   "metadata": {},
   "source": [
    "### Conclusión<a id = 'c2'></a>"
   ]
  },
  {
   "cell_type": "markdown",
   "metadata": {},
   "source": [
    "Observamos que considerando el promedio de nuestros pozos no alcanzamos el mínimo para no generar perdidas, más sin embargo considerando nuestros mejores 200 pozos , no obtivimos perdidas sino ganancias, especialmente en la región 1 guiandonos en estas observaciones podríamos considerar a la región 1 como nuestra mejor opción."
   ]
  },
  {
   "cell_type": "markdown",
   "metadata": {},
   "source": [
    "## Riegos y ganacias por cada región<a  id = 'rgr'></a>"
   ]
  },
  {
   "cell_type": "markdown",
   "metadata": {},
   "source": [
    "A continuación utilizaremos el método de bootstrapping para ver la distribución del beneficio, tambíen veremos nuestro intervalo de confianza con un 95%, esto por cada región. Para el estudio se considerará las siguientes condiciones:\n",
    "\n",
    "* 1000 muestras en total\n",
    "* 500 puntos a tomar\n",
    "* Selección de los mejores 200 puntos\n",
    "\n",
    "Crearemos cuatro funciones, uno para el calculo de las ganacias, otra para el calculo de riesgo y otra para la realización del bootstraping y la última otra para ver graficamente los resultados"
   ]
  },
  {
   "cell_type": "code",
   "execution_count": 14,
   "metadata": {},
   "outputs": [],
   "source": [
    "#Función para el cálculo de de ganancias y perdidas\n",
    "\n",
    "def revenue(target_subsample,probs_subsample, count,budget):\n",
    "       \n",
    "    prediction_sorted = probs_subsample.sort_values(ascending= False) # ordenamos los valroes obtenidos en el bootstraping\n",
    "    selected = target_subsample[prediction_sorted.index][:count] # seleccionamos los valores verdaderos\n",
    "    total = (income * selected.sum())-budget\n",
    "    \n",
    "    \n",
    "        \n",
    "    \n",
    "    return total"
   ]
  },
  {
   "cell_type": "code",
   "execution_count": 61,
   "metadata": {},
   "outputs": [],
   "source": [
    "# Calculo de riesgo\n",
    "\n",
    "def risk_calculation(revenue):\n",
    "\n",
    "    counter = 0\n",
    "    for element in revenue:\n",
    "        if element < 0:\n",
    "            counter += 1\n",
    "    return counter / len(revenue)\n",
    "   "
   ]
  },
  {
   "cell_type": "code",
   "execution_count": 62,
   "metadata": {},
   "outputs": [],
   "source": [
    "#Función para realización de gráfica     \n",
    "\n",
    "def grafica(intervalo_confianza,muestra,region):\n",
    "        \n",
    "#graficando la distribución de precios de acuerdo a las ganancias\n",
    "    plt.figure(figsize=(12,9))\n",
    "    plt.hist(muestra,bins = 30, color = 'green')\n",
    "\n",
    "#Visualización de intervalo de confianza en el histograma\n",
    "    #Límite inferior\n",
    "    plt.axvline(intervalo_confianza[0],\n",
    "               label = \"Limite inferior q = 2.5%\",\n",
    "               color = \"red\",\n",
    "               lw = 3,\n",
    "               linestyle = \"--\")\n",
    "#Límite superior\n",
    "    plt.axvline(intervalo_confianza[1],\n",
    "               label = \"Limite inferior q = 97.5%\",\n",
    "               color = \"red\",\n",
    "               lw = 3,\n",
    "               linestyle = \"--\")    \n",
    "#media de la muestra\n",
    "    plt.axvline(np.mean(muestra),\n",
    "               label = \"Media Muestral\",\n",
    "               color = \"black\",\n",
    "               lw = 3,\n",
    "               linestyle = \"dotted\")   \n",
    "\n",
    "    plt.xlabel(\"Ganancia de los mejores 200 pozos\")\n",
    "    plt.ylabel(\"Frecuencia\")\n",
    "    plt.title('Histograma de ganancias promedio muestral de los 200 mejores pozos región ' + region)\n",
    "    plt.legend(bbox_to_anchor =(1,0.5))\n",
    "    plt.show()"
   ]
  },
  {
   "cell_type": "code",
   "execution_count": 63,
   "metadata": {},
   "outputs": [],
   "source": [
    "#Función para el cálculo de de ganancias e intervalo de confianza\n",
    "def region_bootstrapping(prediction,target,count,income,region, budget):\n",
    "    \n",
    "    target = target.reset_index(drop = True) ## Reseteamos los indicices de nuestro target para tener los mismos que en el array de prediction\n",
    "    prediction = pd.Series(prediction) ## Convertimos nuestras predicciones de array a Series\n",
    "        \n",
    "    \n",
    "    state = np.random.RandomState(12345)\n",
    "    values = []\n",
    "    \n",
    "    # Bootstraping con lo valores de nuestras predicciones \n",
    "    for i in range (1000):\n",
    "        target_subsample = target.sample(n = 500, replace = True, random_state = state)\n",
    "        probs_subsample = prediction[target_subsample.index]\n",
    "        values.append(revenue(target_subsample, probs_subsample, count,budget))\n",
    "    \n",
    "\n",
    "    #Calculo del Intervalo de confianza\n",
    "    \n",
    "    intervalo_de_confianza = np.quantile(values, [0.025,0.975])\n",
    "    \n",
    "    #Realización de gráfica\n",
    "    grafica(intervalo_de_confianza, values,region)\n",
    "    \n",
    "    return  values, intervalo_de_confianza\n",
    "        "
   ]
  },
  {
   "cell_type": "code",
   "execution_count": 64,
   "metadata": {},
   "outputs": [
    {
     "data": {
      "image/png": "[encoded data removed]",
      "text/plain": [
       "<Figure size 864x648 with 1 Axes>"
      ]
     },
     "metadata": {
      "needs_background": "light"
     },
     "output_type": "display_data"
    },
    {
     "name": "stdout",
     "output_type": "stream",
     "text": [
      "Valor promedio de ganancia:$4,259,385.27\n",
      "Rango de confianza($-1,020,900.95 ,$9,479,763.53 )\n",
      "Riesgo: 6.00%\n"
     ]
    }
   ],
   "source": [
    "#Llamado a la función para la región 1\n",
    "value_regionOne, int_confianza= region_bootstrapping(prediction_region_one,\n",
    "                                                     target_valid_rOne,\n",
    "                                                     200,\n",
    "                                                     income,\n",
    "                                                     region ='1',\n",
    "                                                     budget = budget)\n",
    "\n",
    "#Impresion de valores\n",
    "print(\"Valor promedio de ganancia:${:,.2f}\".format(np.mean(value_regionOne)))\n",
    "print(\"Rango de confianza(${:,.2f}\".format(int_confianza[0]), \",${:,.2f}\".format(int_confianza[1]),')')\n",
    "print(\"Riesgo: {:,.2%}\".format(risk_calculation(value_regionOne)))"
   ]
  },
  {
   "cell_type": "code",
   "execution_count": 52,
   "metadata": {},
   "outputs": [
    {
     "data": {
      "image/png": "[encoded data removed]",
      "text/plain": [
       "<Figure size 864x648 with 1 Axes>"
      ]
     },
     "metadata": {
      "needs_background": "light"
     },
     "output_type": "display_data"
    },
    {
     "name": "stdout",
     "output_type": "stream",
     "text": [
      "Valor promedio de ganancia:$5,152,227.73\n",
      "Rango de confianza($688,732.25 ,$9,315,475.91 )\n",
      "Riesgo: 1.00%\n"
     ]
    }
   ],
   "source": [
    "#Llamado a la función para la región 2\n",
    "value_regionTwo, int_confianza= region_bootstrapping(prediction_region_two,\n",
    "                                                     target_valid_two,\n",
    "                                                     200,\n",
    "                                                     income,\n",
    "                                                     region ='2', \n",
    "                                                     budget = budget)\n",
    "\n",
    "#Impresion de valores\n",
    "\n",
    "print(\"Valor promedio de ganancia:${:,.2f}\".format(np.mean(value_regionTwo)))\n",
    "print(\"Rango de confianza(${:,.2f}\".format(int_confianza[0]), \",${:,.2f}\".format(int_confianza[1]),')')\n",
    "print(\"Riesgo: {:,.2%}\".format(risk_calculation(value_regionTwo)))"
   ]
  },
  {
   "cell_type": "code",
   "execution_count": 54,
   "metadata": {
    "scrolled": false
   },
   "outputs": [
    {
     "data": {
      "image/png": "[encoded data removed]",
      "text/plain": [
       "<Figure size 864x648 with 1 Axes>"
      ]
     },
     "metadata": {
      "needs_background": "light"
     },
     "output_type": "display_data"
    },
    {
     "name": "stdout",
     "output_type": "stream",
     "text": [
      "Valor promedio de ganancia:$4,350,083.63\n",
      "Rango de confianza($-1,288,805.47 ,$9,697,069.54 )\n",
      "Riesgo: 6.40%\n"
     ]
    }
   ],
   "source": [
    "#Llamado a la función para la región 3\n",
    "value_regionThree, int_confianza= region_bootstrapping(prediction_region_three,\n",
    "                                                       target_valid_three,\n",
    "                                                       200,\n",
    "                                                       income,\n",
    "                                                       region ='3', \n",
    "                                                       budget = budget)\n",
    "\n",
    "#Impresion de valores\n",
    "\n",
    "print(\"Valor promedio de ganancia:${:,.2f}\".format(np.mean(value_regionThree)))\n",
    "print(\"Rango de confianza(${:,.2f}\".format(int_confianza[0]), \",${:,.2f}\".format(int_confianza[1]),')')\n",
    "print(\"Riesgo: {:,.2%}\".format(risk_calculation(value_regionThree)))"
   ]
  },
  {
   "cell_type": "markdown",
   "metadata": {},
   "source": [
    "### Conclusión <a id = 'c3'></a>"
   ]
  },
  {
   "cell_type": "markdown",
   "metadata": {},
   "source": [
    "En nuestros resultados obtenidos podemos observar como las regiones uno y tres tenemos un valor de ganacia promedio muy parecido y tenemos en nuestro quantil inferior valores negativos para ambos casos, que nos representa un riesgo del 6% y 6.40% del total de nuestras muestras\n",
    "\n",
    "En nuestro estudio podemos notar como la región dos sería la mejor opción teniendo una ganacia mayor de $5,000,000 así como un riesgo del 1\\% , tambien el intervalo de confianza se encuentra en ambos extremos en números positivos"
   ]
  },
  {
   "cell_type": "markdown",
   "metadata": {},
   "source": [
    "## Conclusión final <a id = 'cf'></a>"
   ]
  },
  {
   "cell_type": "markdown",
   "metadata": {},
   "source": [
    "Contamos con tres datasets de tres regiones distintas, todas tenian una cantidad de 100,000 filas y 4 columnas no se encontraron valores nulos y los tipos de datos estaban bien.\n",
    "\n",
    "Se hizo uso del modelado y entrenamiento de nuestros datasets haciendo uso del modelo de regresión lineal, descartamos la columna id dado a que no nos representaba ninguna característica útil para el modelado, obtuvimos nuestro Rem de cada región para ver el error estimado.\n",
    "\n",
    "Obtuvimos el volúmen mínimo para que no se tuvieran perdidas de inversión así como el calculo de las ganancias por el promedio de las predicciones realizadas de nuestros modelos.\n",
    "\n",
    "Para finalizar se aplicó el método de bootstraping con un muestro de 1000, en donde tambíen se calculó el intervalo de confianza del 95%, para esta sección obtuvimos que el mejor lugar de inversión es en la región dos lugar en donde se obtuvo la mejor ganancia y el menor riesgo, el intervalo de confianza se mantuvo positivo en ambos extremos y en donde nuestro modelo tuvo el menor RECM."
   ]
  }
 ],
 "metadata": {
  "kernelspec": {
   "display_name": "Python 3 (ipykernel)",
   "language": "python",
   "name": "python3"
  },
  "language_info": {
   "codemirror_mode": {
    "name": "ipython",
    "version": 3
   },
   "file_extension": ".py",
   "mimetype": "text/x-python",
   "name": "python",
   "nbconvert_exporter": "python",
   "pygments_lexer": "ipython3",
   "version": "3.9.19"
  },
  "toc": {
   "base_numbering": 1,
   "nav_menu": {
    "height": "130.4px",
    "width": "340.4px"
   },
   "number_sections": true,
   "sideBar": true,
   "skip_h1_title": true,
   "title_cell": "Table of Contents",
   "title_sidebar": "Contents",
   "toc_cell": false,
   "toc_position": {
    "height": "calc(100% - 180px)",
    "left": "10px",
    "top": "150px",
    "width": "292.475px"
   },
   "toc_section_display": true,
   "toc_window_display": true
  }
 },
 "nbformat": 4,
 "nbformat_minor": 2
}
